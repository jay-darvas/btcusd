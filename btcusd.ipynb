{
  "cells": [
    {
      "cell_type": "markdown",
      "metadata": {
        "id": "view-in-github",
        "colab_type": "text"
      },
      "source": [
        "<a href=\"https://colab.research.google.com/github/jay-darvas/btcusd/blob/main/btcusd.ipynb\" target=\"_parent\"><img src=\"https://colab.research.google.com/assets/colab-badge.svg\" alt=\"Open In Colab\"/></a>"
      ]
    },
    {
      "cell_type": "code",
      "execution_count": null,
      "metadata": {
        "colab": {
          "base_uri": "https://localhost:8080/"
        },
        "id": "UdLRa7LrIvO5",
        "outputId": "893a0691-6d55-4026-b265-8b304a74bbed"
      },
      "outputs": [
        {
          "output_type": "stream",
          "name": "stdout",
          "text": [
            "X_train has the shape  (45714, 3200)\n"
          ]
        }
      ],
      "source": [
        "from pandas import read_csv\n",
        "from numpy import zeros, array, sqrt\n",
        "from sklearn.model_selection import train_test_split, cross_val_score, KFold, GridSearchCV\n",
        "from sklearn.metrics import mean_squared_error,mean_absolute_error,r2_score, accuracy_score, mean_absolute_percentage_error\n",
        "from sklearn.preprocessing import MinMaxScaler\n",
        "from xgboost import XGBRegressor\n",
        "from sklearn.neighbors import KNeighborsRegressor\n",
        "scaler = MinMaxScaler()\n",
        "df=read_csv('https://raw.githubusercontent.com/jay-darvas/btcusd/main/Bitfinex_BTCUSD_1h.csv', header=0, names=['Date', 'Price', 'Open',\t'High',\t'Low',\t'Vol',\t'Change']);\n",
        "data=df.values\n",
        "changes=[float(str(x).rstrip('\\%')) for x in data[:,-1]]\n",
        "price=[float(str(x).replace(',', '')) for x in data[:,1]]\n",
        "vols=[float(str(x).rstrip('K')) for x in data[:,-2]]\n",
        "N=len(changes)\n",
        "X=[];y=[];\n",
        "i=60\n",
        "#i=40\n",
        "#i=36\n",
        "useDays=3200\n",
        "#useDays=2400\n",
        "#useDays=1200\n",
        "#useDays=900\n",
        "while i<N-useDays+1:\n",
        "    ySum=sum(changes[i-60:i])#2 months ahead\n",
        "    #ySum=sum(changes[i-40:i])#6 days ahead\n",
        "    #ySum=sum(changes[i-36:i])#30 hours ahead\n",
        "    #vol=sum(vols[i:i+useDays])\n",
        "    #l=changes[i:i+useDays];\n",
        "    l=price[i:i+useDays];\n",
        "    v=vols[i:i+useDays];\n",
        "    #l=l+v;\n",
        "    X.insert(0,l)\n",
        "    y.insert(0,ySum)\n",
        "    i=i+1\n",
        "X=array(X);y=array(y)\n",
        "X_train, X_test, y_train, y_test = train_test_split(X, y, test_size=0.001, random_state=1)\n",
        "X_train = scaler.fit_transform(X_train)\n",
        "#We use the below X_test to predict the current day\n",
        "#X_test=array(changes[0:useDays]+vols[0:useDays]).reshape(1,-1);\n",
        "#X_test=array(price[0:useDays]+vols[0:useDays]).reshape(1,-1);\n",
        "X_test=array(price[0:useDays]).reshape(1,-1);\n",
        "X_test = scaler.transform(X_test)\n",
        "#######################################################\n",
        "print(\"X_train has the shape \", X_train.shape)\n",
        "XGBModel = XGBRegressor()\n",
        "#KNNModel= KNeighborsRegressor(n_neighbors=255, p=1, leaf_size=60, weights='distance', n_jobs=-1)\n",
        "#KNNModel= KNeighborsRegressor(n_neighbors=255, weights='distance', n_jobs=-1)\n",
        "cv = KFold(n_splits=2, shuffle=True, random_state=1)\n",
        "#Here we list the parameters we want to tune\n",
        "space = dict()\n",
        "#search = GridSearchCV(KNNModel, space, n_jobs=-1, cv=cv, refit=True)\n",
        "search = GridSearchCV(XGBModel, space, n_jobs=-1, cv=cv, refit=True)\n",
        "result = search.fit(X_train, y_train)\n",
        "best_model = result.best_estimator_\n",
        "yhat_test = best_model.predict(X_test)\n",
        "print(\"yhat_test is \",yhat_test);\n",
        "yhat_train = best_model.predict(X_train)\n",
        "print('RMSE train= ',sqrt(mean_squared_error(y_train, yhat_train)))\n",
        "print('MAE train= ',mean_absolute_error(y_train, yhat_train))\n",
        "print('R2 train:',r2_score(y_train, yhat_train))\n",
        "print('RMSE test= ',sqrt(mean_squared_error(y_test, yhat_test)))\n",
        "print('MAE test= ',mean_absolute_error(y_test, yhat_test))\n",
        "print('R2 test:',r2_score(y_test, yhat_test))#original\n",
        "print('Best parameters are',search.best_params_)#original\n",
        "print('Hyperparameters: ',best_model.get_params())"
      ]
    }
  ],
  "metadata": {
    "colab": {
      "provenance": [],
      "authorship_tag": "ABX9TyMUiO95d9DLoVLLsqkiiMch",
      "include_colab_link": true
    },
    "kernelspec": {
      "display_name": "Python 3",
      "name": "python3"
    },
    "language_info": {
      "name": "python"
    }
  },
  "nbformat": 4,
  "nbformat_minor": 0
}